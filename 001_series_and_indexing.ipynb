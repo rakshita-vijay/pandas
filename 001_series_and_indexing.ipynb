{
 "cells": [
  {
   "cell_type": "code",
   "execution_count": 2,
   "id": "c0932577-ba2b-4b9b-9c0c-12f692e3da71",
   "metadata": {},
   "outputs": [],
   "source": [
    "import pandas as pd"
   ]
  },
  {
   "cell_type": "code",
   "execution_count": 3,
   "id": "a671ac72-c4de-47d6-838e-2cfac02fe9d8",
   "metadata": {},
   "outputs": [],
   "source": [
    "import numpy as np"
   ]
  },
  {
   "cell_type": "code",
   "execution_count": 5,
   "id": "b4854721-591c-4da2-839a-d7246d82c700",
   "metadata": {},
   "outputs": [
    {
     "data": {
      "text/plain": [
       "0    5\n",
       "1    1\n",
       "2    7\n",
       "3    2\n",
       "4    6\n",
       "5    4\n",
       "6    9\n",
       "7    0\n",
       "8    4\n",
       "dtype: int64"
      ]
     },
     "execution_count": 5,
     "metadata": {},
     "output_type": "execute_result"
    }
   ],
   "source": [
    "my_series_1 = [5,1,7,2,6,4,9,0,4]\n",
    "my_var_1 = pd.Series(my_series_1)\n",
    "my_var_1"
   ]
  },
  {
   "cell_type": "code",
   "execution_count": 6,
   "id": "b3bb9e7a-9ef3-409c-8118-d078883a15e9",
   "metadata": {},
   "outputs": [
    {
     "data": {
      "text/plain": [
       "A    5\n",
       "B    1\n",
       "C    7\n",
       "D    2\n",
       "E    6\n",
       "F    4\n",
       "G    9\n",
       "H    0\n",
       "I    4\n",
       "dtype: int64"
      ]
     },
     "execution_count": 6,
     "metadata": {},
     "output_type": "execute_result"
    }
   ],
   "source": [
    "my_index_1 = [\"A\",\"B\",\"C\",\"D\",\"E\",\"F\",\"G\",\"H\", \"I\"]\n",
    "my_var_2 = pd.Series(my_series_1, my_index_1)\n",
    "my_var_2"
   ]
  },
  {
   "cell_type": "code",
   "execution_count": null,
   "id": "48d17d93-bcc3-4e14-83dc-778606bd100d",
   "metadata": {},
   "outputs": [],
   "source": []
  }
 ],
 "metadata": {
  "kernelspec": {
   "display_name": "Python 3 (ipykernel)",
   "language": "python",
   "name": "python3"
  },
  "language_info": {
   "codemirror_mode": {
    "name": "ipython",
    "version": 3
   },
   "file_extension": ".py",
   "mimetype": "text/x-python",
   "name": "python",
   "nbconvert_exporter": "python",
   "pygments_lexer": "ipython3",
   "version": "3.12.7"
  }
 },
 "nbformat": 4,
 "nbformat_minor": 5
}
