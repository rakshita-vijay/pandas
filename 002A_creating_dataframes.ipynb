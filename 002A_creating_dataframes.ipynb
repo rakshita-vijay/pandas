{
 "cells": [
  {
   "cell_type": "code",
   "execution_count": 1,
   "id": "18ed5b9b-0c19-4148-845a-20ee2c1d8a12",
   "metadata": {},
   "outputs": [],
   "source": [
    "# data frames are basically tables"
   ]
  },
  {
   "cell_type": "code",
   "execution_count": 3,
   "id": "4d24d89a-0821-46a7-bfa6-a16c5136d247",
   "metadata": {},
   "outputs": [],
   "source": [
    "import pandas as pd"
   ]
  },
  {
   "cell_type": "code",
   "execution_count": 4,
   "id": "a3248b0f-5723-4291-b0ab-ce8c8ce2741c",
   "metadata": {},
   "outputs": [],
   "source": [
    "import numpy as np"
   ]
  },
  {
   "cell_type": "code",
   "execution_count": 5,
   "id": "f4ff9af4-2274-44cf-bc65-a9c9e05522bb",
   "metadata": {},
   "outputs": [],
   "source": [
    "from numpy.random import randn"
   ]
  },
  {
   "cell_type": "code",
   "execution_count": 6,
   "id": "711c56ae-c71a-4def-9864-62bc964da27f",
   "metadata": {},
   "outputs": [
    {
     "data": {
      "text/plain": [
       "array([[-1.04954823,  0.85001504, -1.12410574, -0.64122382],\n",
       "       [-1.31905591,  0.02173048, -0.16903394, -1.57698813],\n",
       "       [ 0.82404641, -0.59609358, -1.82314495, -0.38031222]])"
      ]
     },
     "execution_count": 6,
     "metadata": {},
     "output_type": "execute_result"
    }
   ],
   "source": [
    "my_data = randn(3,4)\n",
    "my_data"
   ]
  },
  {
   "cell_type": "code",
   "execution_count": 7,
   "id": "715ca077-d5bf-4dd1-9f55-1281f78cc404",
   "metadata": {},
   "outputs": [],
   "source": [
    "my_rows = ['A','B','C','D']\n",
    "my_cols = ['Monday', 'Tuesday', 'Friday']"
   ]
  },
  {
   "cell_type": "code",
   "execution_count": 8,
   "id": "fa227443-6537-49a3-ac22-8c7502f881c5",
   "metadata": {},
   "outputs": [
    {
     "data": {
      "text/plain": [
       "array([[-1.04954823,  0.85001504, -1.12410574],\n",
       "       [-0.64122382, -1.31905591,  0.02173048],\n",
       "       [-0.16903394, -1.57698813,  0.82404641],\n",
       "       [-0.59609358, -1.82314495, -0.38031222]])"
      ]
     },
     "execution_count": 8,
     "metadata": {},
     "output_type": "execute_result"
    }
   ],
   "source": [
    "my_data = my_data.reshape(4,3)\n",
    "my_data"
   ]
  },
  {
   "cell_type": "code",
   "execution_count": 9,
   "id": "0caefef0-d69e-4e64-97a6-b1a578bbc2cb",
   "metadata": {},
   "outputs": [
    {
     "data": {
      "text/html": [
       "<div>\n",
       "<style scoped>\n",
       "    .dataframe tbody tr th:only-of-type {\n",
       "        vertical-align: middle;\n",
       "    }\n",
       "\n",
       "    .dataframe tbody tr th {\n",
       "        vertical-align: top;\n",
       "    }\n",
       "\n",
       "    .dataframe thead th {\n",
       "        text-align: right;\n",
       "    }\n",
       "</style>\n",
       "<table border=\"1\" class=\"dataframe\">\n",
       "  <thead>\n",
       "    <tr style=\"text-align: right;\">\n",
       "      <th></th>\n",
       "      <th>Monday</th>\n",
       "      <th>Tuesday</th>\n",
       "      <th>Friday</th>\n",
       "    </tr>\n",
       "  </thead>\n",
       "  <tbody>\n",
       "    <tr>\n",
       "      <th>A</th>\n",
       "      <td>-1.049548</td>\n",
       "      <td>0.850015</td>\n",
       "      <td>-1.124106</td>\n",
       "    </tr>\n",
       "    <tr>\n",
       "      <th>B</th>\n",
       "      <td>-0.641224</td>\n",
       "      <td>-1.319056</td>\n",
       "      <td>0.021730</td>\n",
       "    </tr>\n",
       "    <tr>\n",
       "      <th>C</th>\n",
       "      <td>-0.169034</td>\n",
       "      <td>-1.576988</td>\n",
       "      <td>0.824046</td>\n",
       "    </tr>\n",
       "    <tr>\n",
       "      <th>D</th>\n",
       "      <td>-0.596094</td>\n",
       "      <td>-1.823145</td>\n",
       "      <td>-0.380312</td>\n",
       "    </tr>\n",
       "  </tbody>\n",
       "</table>\n",
       "</div>"
      ],
      "text/plain": [
       "     Monday   Tuesday    Friday\n",
       "A -1.049548  0.850015 -1.124106\n",
       "B -0.641224 -1.319056  0.021730\n",
       "C -0.169034 -1.576988  0.824046\n",
       "D -0.596094 -1.823145 -0.380312"
      ]
     },
     "execution_count": 9,
     "metadata": {},
     "output_type": "execute_result"
    }
   ],
   "source": [
    "my_df = pd.DataFrame(my_data, my_rows, my_cols)\n",
    "my_df"
   ]
  },
  {
   "cell_type": "code",
   "execution_count": 10,
   "id": "8e9740a9-d010-4241-84ed-e67d46063b07",
   "metadata": {},
   "outputs": [
    {
     "data": {
      "text/html": [
       "<div>\n",
       "<style scoped>\n",
       "    .dataframe tbody tr th:only-of-type {\n",
       "        vertical-align: middle;\n",
       "    }\n",
       "\n",
       "    .dataframe tbody tr th {\n",
       "        vertical-align: top;\n",
       "    }\n",
       "\n",
       "    .dataframe thead th {\n",
       "        text-align: right;\n",
       "    }\n",
       "</style>\n",
       "<table border=\"1\" class=\"dataframe\">\n",
       "  <thead>\n",
       "    <tr style=\"text-align: right;\">\n",
       "      <th></th>\n",
       "      <th>Breed</th>\n",
       "      <th>Color</th>\n",
       "      <th>DogName</th>\n",
       "      <th>OwnerZip</th>\n",
       "    </tr>\n",
       "  </thead>\n",
       "  <tbody>\n",
       "    <tr>\n",
       "      <th>0</th>\n",
       "      <td>COCKAPOO</td>\n",
       "      <td>BROWN</td>\n",
       "      <td>CHARLEY</td>\n",
       "      <td>15236</td>\n",
       "    </tr>\n",
       "    <tr>\n",
       "      <th>1</th>\n",
       "      <td>GER SHEPHERD</td>\n",
       "      <td>BLACK/BROWN</td>\n",
       "      <td>TACODA</td>\n",
       "      <td>15238</td>\n",
       "    </tr>\n",
       "    <tr>\n",
       "      <th>2</th>\n",
       "      <td>BELG MALINOIS</td>\n",
       "      <td>BRINDLE</td>\n",
       "      <td>EICH</td>\n",
       "      <td>15238</td>\n",
       "    </tr>\n",
       "    <tr>\n",
       "      <th>3</th>\n",
       "      <td>MIXED</td>\n",
       "      <td>BLACK/BROWN</td>\n",
       "      <td>ARROW</td>\n",
       "      <td>15104</td>\n",
       "    </tr>\n",
       "    <tr>\n",
       "      <th>4</th>\n",
       "      <td>AM PIT BULL TERRIER</td>\n",
       "      <td>WHITE/BROWN</td>\n",
       "      <td>OAKLEY</td>\n",
       "      <td>15139</td>\n",
       "    </tr>\n",
       "    <tr>\n",
       "      <th>...</th>\n",
       "      <td>...</td>\n",
       "      <td>...</td>\n",
       "      <td>...</td>\n",
       "      <td>...</td>\n",
       "    </tr>\n",
       "    <tr>\n",
       "      <th>2665</th>\n",
       "      <td>GOLDENDOODLE</td>\n",
       "      <td>BROWN</td>\n",
       "      <td>WINSLOW</td>\n",
       "      <td>15044</td>\n",
       "    </tr>\n",
       "    <tr>\n",
       "      <th>2666</th>\n",
       "      <td>YORKSHIRE TERRIER</td>\n",
       "      <td>BLACK/BROWN</td>\n",
       "      <td>ROCKY KALAKOS</td>\n",
       "      <td>15220</td>\n",
       "    </tr>\n",
       "    <tr>\n",
       "      <th>2667</th>\n",
       "      <td>LAB MIX</td>\n",
       "      <td>WHITE/BLACK/BROWN</td>\n",
       "      <td>ELLIE</td>\n",
       "      <td>15220</td>\n",
       "    </tr>\n",
       "    <tr>\n",
       "      <th>2668</th>\n",
       "      <td>GOLDENDOODLE</td>\n",
       "      <td>WHITE</td>\n",
       "      <td>CLARENCE</td>\n",
       "      <td>15143</td>\n",
       "    </tr>\n",
       "    <tr>\n",
       "      <th>2669</th>\n",
       "      <td>SHETLAND SHEEPDOG</td>\n",
       "      <td>BLACK</td>\n",
       "      <td>GRIFFIN</td>\n",
       "      <td>15136</td>\n",
       "    </tr>\n",
       "  </tbody>\n",
       "</table>\n",
       "<p>2670 rows × 4 columns</p>\n",
       "</div>"
      ],
      "text/plain": [
       "                    Breed              Color        DogName  OwnerZip\n",
       "0                COCKAPOO              BROWN        CHARLEY     15236\n",
       "1            GER SHEPHERD        BLACK/BROWN         TACODA     15238\n",
       "2           BELG MALINOIS            BRINDLE           EICH     15238\n",
       "3                   MIXED        BLACK/BROWN          ARROW     15104\n",
       "4     AM PIT BULL TERRIER        WHITE/BROWN         OAKLEY     15139\n",
       "...                   ...                ...            ...       ...\n",
       "2665         GOLDENDOODLE              BROWN        WINSLOW     15044\n",
       "2666    YORKSHIRE TERRIER        BLACK/BROWN  ROCKY KALAKOS     15220\n",
       "2667              LAB MIX  WHITE/BLACK/BROWN          ELLIE     15220\n",
       "2668         GOLDENDOODLE              WHITE       CLARENCE     15143\n",
       "2669    SHETLAND SHEEPDOG              BLACK        GRIFFIN     15136\n",
       "\n",
       "[2670 rows x 4 columns]"
      ]
     },
     "execution_count": 10,
     "metadata": {},
     "output_type": "execute_result"
    }
   ],
   "source": [
    "# import csv file\n",
    "my_df2 = pd.read_csv('002B_dog_data.csv')\n",
    "my_df2"
   ]
  },
  {
   "cell_type": "code",
   "execution_count": 11,
   "id": "172cfe75-281e-4879-b264-8c0149f68800",
   "metadata": {},
   "outputs": [
    {
     "data": {
      "text/plain": [
       "Breed       COCKAPOO\n",
       "Color          BROWN\n",
       "DogName      CHARLEY\n",
       "OwnerZip       15236\n",
       "Name: 0, dtype: object"
      ]
     },
     "execution_count": 11,
     "metadata": {},
     "output_type": "execute_result"
    }
   ],
   "source": [
    "my_df2.loc[0]"
   ]
  },
  {
   "cell_type": "code",
   "execution_count": 12,
   "id": "721ed2e7-0ba2-4203-a54f-316020f8ce69",
   "metadata": {},
   "outputs": [
    {
     "data": {
      "text/html": [
       "<div>\n",
       "<style scoped>\n",
       "    .dataframe tbody tr th:only-of-type {\n",
       "        vertical-align: middle;\n",
       "    }\n",
       "\n",
       "    .dataframe tbody tr th {\n",
       "        vertical-align: top;\n",
       "    }\n",
       "\n",
       "    .dataframe thead th {\n",
       "        text-align: right;\n",
       "    }\n",
       "</style>\n",
       "<table border=\"1\" class=\"dataframe\">\n",
       "  <thead>\n",
       "    <tr style=\"text-align: right;\">\n",
       "      <th></th>\n",
       "      <th>Breed</th>\n",
       "      <th>Color</th>\n",
       "      <th>DogName</th>\n",
       "      <th>OwnerZip</th>\n",
       "    </tr>\n",
       "  </thead>\n",
       "  <tbody>\n",
       "    <tr>\n",
       "      <th>0</th>\n",
       "      <td>COCKAPOO</td>\n",
       "      <td>BROWN</td>\n",
       "      <td>CHARLEY</td>\n",
       "      <td>15236</td>\n",
       "    </tr>\n",
       "    <tr>\n",
       "      <th>1</th>\n",
       "      <td>GER SHEPHERD</td>\n",
       "      <td>BLACK/BROWN</td>\n",
       "      <td>TACODA</td>\n",
       "      <td>15238</td>\n",
       "    </tr>\n",
       "    <tr>\n",
       "      <th>2</th>\n",
       "      <td>BELG MALINOIS</td>\n",
       "      <td>BRINDLE</td>\n",
       "      <td>EICH</td>\n",
       "      <td>15238</td>\n",
       "    </tr>\n",
       "    <tr>\n",
       "      <th>3</th>\n",
       "      <td>MIXED</td>\n",
       "      <td>BLACK/BROWN</td>\n",
       "      <td>ARROW</td>\n",
       "      <td>15104</td>\n",
       "    </tr>\n",
       "    <tr>\n",
       "      <th>4</th>\n",
       "      <td>AM PIT BULL TERRIER</td>\n",
       "      <td>WHITE/BROWN</td>\n",
       "      <td>OAKLEY</td>\n",
       "      <td>15139</td>\n",
       "    </tr>\n",
       "    <tr>\n",
       "      <th>5</th>\n",
       "      <td>SCOTTISH TERRIER</td>\n",
       "      <td>BLACK</td>\n",
       "      <td>BAILEY</td>\n",
       "      <td>15129</td>\n",
       "    </tr>\n",
       "  </tbody>\n",
       "</table>\n",
       "</div>"
      ],
      "text/plain": [
       "                 Breed        Color  DogName  OwnerZip\n",
       "0             COCKAPOO        BROWN  CHARLEY     15236\n",
       "1         GER SHEPHERD  BLACK/BROWN   TACODA     15238\n",
       "2        BELG MALINOIS      BRINDLE     EICH     15238\n",
       "3                MIXED  BLACK/BROWN    ARROW     15104\n",
       "4  AM PIT BULL TERRIER  WHITE/BROWN   OAKLEY     15139\n",
       "5     SCOTTISH TERRIER        BLACK   BAILEY     15129"
      ]
     },
     "execution_count": 12,
     "metadata": {},
     "output_type": "execute_result"
    }
   ],
   "source": [
    "my_df2.loc[0:5]"
   ]
  },
  {
   "cell_type": "code",
   "execution_count": 13,
   "id": "eca073da-ab0b-4219-9121-69700124483a",
   "metadata": {},
   "outputs": [
    {
     "data": {
      "text/html": [
       "<div>\n",
       "<style scoped>\n",
       "    .dataframe tbody tr th:only-of-type {\n",
       "        vertical-align: middle;\n",
       "    }\n",
       "\n",
       "    .dataframe tbody tr th {\n",
       "        vertical-align: top;\n",
       "    }\n",
       "\n",
       "    .dataframe thead th {\n",
       "        text-align: right;\n",
       "    }\n",
       "</style>\n",
       "<table border=\"1\" class=\"dataframe\">\n",
       "  <thead>\n",
       "    <tr style=\"text-align: right;\">\n",
       "      <th></th>\n",
       "      <th>Breed</th>\n",
       "      <th>Color</th>\n",
       "      <th>DogName</th>\n",
       "      <th>OwnerZip</th>\n",
       "    </tr>\n",
       "  </thead>\n",
       "  <tbody>\n",
       "    <tr>\n",
       "      <th>0</th>\n",
       "      <td>COCKAPOO</td>\n",
       "      <td>BROWN</td>\n",
       "      <td>CHARLEY</td>\n",
       "      <td>15236</td>\n",
       "    </tr>\n",
       "    <tr>\n",
       "      <th>5</th>\n",
       "      <td>SCOTTISH TERRIER</td>\n",
       "      <td>BLACK</td>\n",
       "      <td>BAILEY</td>\n",
       "      <td>15129</td>\n",
       "    </tr>\n",
       "  </tbody>\n",
       "</table>\n",
       "</div>"
      ],
      "text/plain": [
       "              Breed  Color  DogName  OwnerZip\n",
       "0          COCKAPOO  BROWN  CHARLEY     15236\n",
       "5  SCOTTISH TERRIER  BLACK   BAILEY     15129"
      ]
     },
     "execution_count": 13,
     "metadata": {},
     "output_type": "execute_result"
    }
   ],
   "source": [
    "my_df2.loc[[0, 5]]"
   ]
  },
  {
   "cell_type": "code",
   "execution_count": 14,
   "id": "4cc48f11-7a90-4285-aab1-01747060a487",
   "metadata": {},
   "outputs": [
    {
     "data": {
      "text/html": [
       "<div>\n",
       "<style scoped>\n",
       "    .dataframe tbody tr th:only-of-type {\n",
       "        vertical-align: middle;\n",
       "    }\n",
       "\n",
       "    .dataframe tbody tr th {\n",
       "        vertical-align: top;\n",
       "    }\n",
       "\n",
       "    .dataframe thead th {\n",
       "        text-align: right;\n",
       "    }\n",
       "</style>\n",
       "<table border=\"1\" class=\"dataframe\">\n",
       "  <thead>\n",
       "    <tr style=\"text-align: right;\">\n",
       "      <th></th>\n",
       "      <th>Breed</th>\n",
       "      <th>Color</th>\n",
       "      <th>DogName</th>\n",
       "      <th>OwnerZip</th>\n",
       "    </tr>\n",
       "  </thead>\n",
       "  <tbody>\n",
       "    <tr>\n",
       "      <th>0</th>\n",
       "      <td>COCKAPOO</td>\n",
       "      <td>BROWN</td>\n",
       "      <td>CHARLEY</td>\n",
       "      <td>15236</td>\n",
       "    </tr>\n",
       "    <tr>\n",
       "      <th>1</th>\n",
       "      <td>GER SHEPHERD</td>\n",
       "      <td>BLACK/BROWN</td>\n",
       "      <td>TACODA</td>\n",
       "      <td>15238</td>\n",
       "    </tr>\n",
       "    <tr>\n",
       "      <th>2</th>\n",
       "      <td>BELG MALINOIS</td>\n",
       "      <td>BRINDLE</td>\n",
       "      <td>EICH</td>\n",
       "      <td>15238</td>\n",
       "    </tr>\n",
       "    <tr>\n",
       "      <th>3</th>\n",
       "      <td>MIXED</td>\n",
       "      <td>BLACK/BROWN</td>\n",
       "      <td>ARROW</td>\n",
       "      <td>15104</td>\n",
       "    </tr>\n",
       "    <tr>\n",
       "      <th>4</th>\n",
       "      <td>AM PIT BULL TERRIER</td>\n",
       "      <td>WHITE/BROWN</td>\n",
       "      <td>OAKLEY</td>\n",
       "      <td>15139</td>\n",
       "    </tr>\n",
       "  </tbody>\n",
       "</table>\n",
       "</div>"
      ],
      "text/plain": [
       "                 Breed        Color  DogName  OwnerZip\n",
       "0             COCKAPOO        BROWN  CHARLEY     15236\n",
       "1         GER SHEPHERD  BLACK/BROWN   TACODA     15238\n",
       "2        BELG MALINOIS      BRINDLE     EICH     15238\n",
       "3                MIXED  BLACK/BROWN    ARROW     15104\n",
       "4  AM PIT BULL TERRIER  WHITE/BROWN   OAKLEY     15139"
      ]
     },
     "execution_count": 14,
     "metadata": {},
     "output_type": "execute_result"
    }
   ],
   "source": [
    "my_df2.head()"
   ]
  },
  {
   "cell_type": "code",
   "execution_count": 15,
   "id": "f10fb5ec-32fc-4063-8922-d67b58877186",
   "metadata": {},
   "outputs": [
    {
     "data": {
      "text/html": [
       "<div>\n",
       "<style scoped>\n",
       "    .dataframe tbody tr th:only-of-type {\n",
       "        vertical-align: middle;\n",
       "    }\n",
       "\n",
       "    .dataframe tbody tr th {\n",
       "        vertical-align: top;\n",
       "    }\n",
       "\n",
       "    .dataframe thead th {\n",
       "        text-align: right;\n",
       "    }\n",
       "</style>\n",
       "<table border=\"1\" class=\"dataframe\">\n",
       "  <thead>\n",
       "    <tr style=\"text-align: right;\">\n",
       "      <th></th>\n",
       "      <th>Breed</th>\n",
       "      <th>Color</th>\n",
       "      <th>DogName</th>\n",
       "      <th>OwnerZip</th>\n",
       "    </tr>\n",
       "  </thead>\n",
       "  <tbody>\n",
       "    <tr>\n",
       "      <th>0</th>\n",
       "      <td>COCKAPOO</td>\n",
       "      <td>BROWN</td>\n",
       "      <td>CHARLEY</td>\n",
       "      <td>15236</td>\n",
       "    </tr>\n",
       "    <tr>\n",
       "      <th>1</th>\n",
       "      <td>GER SHEPHERD</td>\n",
       "      <td>BLACK/BROWN</td>\n",
       "      <td>TACODA</td>\n",
       "      <td>15238</td>\n",
       "    </tr>\n",
       "    <tr>\n",
       "      <th>2</th>\n",
       "      <td>BELG MALINOIS</td>\n",
       "      <td>BRINDLE</td>\n",
       "      <td>EICH</td>\n",
       "      <td>15238</td>\n",
       "    </tr>\n",
       "    <tr>\n",
       "      <th>3</th>\n",
       "      <td>MIXED</td>\n",
       "      <td>BLACK/BROWN</td>\n",
       "      <td>ARROW</td>\n",
       "      <td>15104</td>\n",
       "    </tr>\n",
       "    <tr>\n",
       "      <th>4</th>\n",
       "      <td>AM PIT BULL TERRIER</td>\n",
       "      <td>WHITE/BROWN</td>\n",
       "      <td>OAKLEY</td>\n",
       "      <td>15139</td>\n",
       "    </tr>\n",
       "    <tr>\n",
       "      <th>5</th>\n",
       "      <td>SCOTTISH TERRIER</td>\n",
       "      <td>BLACK</td>\n",
       "      <td>BAILEY</td>\n",
       "      <td>15129</td>\n",
       "    </tr>\n",
       "    <tr>\n",
       "      <th>6</th>\n",
       "      <td>YORKSHIRE TERRIER</td>\n",
       "      <td>BLACK/TAN</td>\n",
       "      <td>MIMI PEARL FOSTER</td>\n",
       "      <td>15090</td>\n",
       "    </tr>\n",
       "    <tr>\n",
       "      <th>7</th>\n",
       "      <td>DACHSHUND MIX</td>\n",
       "      <td>WHITE/BROWN</td>\n",
       "      <td>LEROI</td>\n",
       "      <td>15101</td>\n",
       "    </tr>\n",
       "  </tbody>\n",
       "</table>\n",
       "</div>"
      ],
      "text/plain": [
       "                 Breed        Color            DogName  OwnerZip\n",
       "0             COCKAPOO        BROWN            CHARLEY     15236\n",
       "1         GER SHEPHERD  BLACK/BROWN             TACODA     15238\n",
       "2        BELG MALINOIS      BRINDLE               EICH     15238\n",
       "3                MIXED  BLACK/BROWN              ARROW     15104\n",
       "4  AM PIT BULL TERRIER  WHITE/BROWN             OAKLEY     15139\n",
       "5     SCOTTISH TERRIER        BLACK             BAILEY     15129\n",
       "6    YORKSHIRE TERRIER    BLACK/TAN  MIMI PEARL FOSTER     15090\n",
       "7        DACHSHUND MIX  WHITE/BROWN              LEROI     15101"
      ]
     },
     "execution_count": 15,
     "metadata": {},
     "output_type": "execute_result"
    }
   ],
   "source": [
    "my_df2.head(8)"
   ]
  },
  {
   "cell_type": "code",
   "execution_count": 16,
   "id": "916605f4-bb65-4532-83a9-7e9d66b4c80e",
   "metadata": {},
   "outputs": [
    {
     "data": {
      "text/html": [
       "<div>\n",
       "<style scoped>\n",
       "    .dataframe tbody tr th:only-of-type {\n",
       "        vertical-align: middle;\n",
       "    }\n",
       "\n",
       "    .dataframe tbody tr th {\n",
       "        vertical-align: top;\n",
       "    }\n",
       "\n",
       "    .dataframe thead th {\n",
       "        text-align: right;\n",
       "    }\n",
       "</style>\n",
       "<table border=\"1\" class=\"dataframe\">\n",
       "  <thead>\n",
       "    <tr style=\"text-align: right;\">\n",
       "      <th></th>\n",
       "      <th>Breed</th>\n",
       "      <th>Color</th>\n",
       "      <th>DogName</th>\n",
       "      <th>OwnerZip</th>\n",
       "    </tr>\n",
       "  </thead>\n",
       "  <tbody>\n",
       "    <tr>\n",
       "      <th>2665</th>\n",
       "      <td>GOLDENDOODLE</td>\n",
       "      <td>BROWN</td>\n",
       "      <td>WINSLOW</td>\n",
       "      <td>15044</td>\n",
       "    </tr>\n",
       "    <tr>\n",
       "      <th>2666</th>\n",
       "      <td>YORKSHIRE TERRIER</td>\n",
       "      <td>BLACK/BROWN</td>\n",
       "      <td>ROCKY KALAKOS</td>\n",
       "      <td>15220</td>\n",
       "    </tr>\n",
       "    <tr>\n",
       "      <th>2667</th>\n",
       "      <td>LAB MIX</td>\n",
       "      <td>WHITE/BLACK/BROWN</td>\n",
       "      <td>ELLIE</td>\n",
       "      <td>15220</td>\n",
       "    </tr>\n",
       "    <tr>\n",
       "      <th>2668</th>\n",
       "      <td>GOLDENDOODLE</td>\n",
       "      <td>WHITE</td>\n",
       "      <td>CLARENCE</td>\n",
       "      <td>15143</td>\n",
       "    </tr>\n",
       "    <tr>\n",
       "      <th>2669</th>\n",
       "      <td>SHETLAND SHEEPDOG</td>\n",
       "      <td>BLACK</td>\n",
       "      <td>GRIFFIN</td>\n",
       "      <td>15136</td>\n",
       "    </tr>\n",
       "  </tbody>\n",
       "</table>\n",
       "</div>"
      ],
      "text/plain": [
       "                  Breed              Color        DogName  OwnerZip\n",
       "2665       GOLDENDOODLE              BROWN        WINSLOW     15044\n",
       "2666  YORKSHIRE TERRIER        BLACK/BROWN  ROCKY KALAKOS     15220\n",
       "2667            LAB MIX  WHITE/BLACK/BROWN          ELLIE     15220\n",
       "2668       GOLDENDOODLE              WHITE       CLARENCE     15143\n",
       "2669  SHETLAND SHEEPDOG              BLACK        GRIFFIN     15136"
      ]
     },
     "execution_count": 16,
     "metadata": {},
     "output_type": "execute_result"
    }
   ],
   "source": [
    "my_df2.tail()"
   ]
  },
  {
   "cell_type": "code",
   "execution_count": 17,
   "id": "7e9470c2-add9-4810-99b8-d20d08f32dec",
   "metadata": {},
   "outputs": [
    {
     "data": {
      "text/html": [
       "<div>\n",
       "<style scoped>\n",
       "    .dataframe tbody tr th:only-of-type {\n",
       "        vertical-align: middle;\n",
       "    }\n",
       "\n",
       "    .dataframe tbody tr th {\n",
       "        vertical-align: top;\n",
       "    }\n",
       "\n",
       "    .dataframe thead th {\n",
       "        text-align: right;\n",
       "    }\n",
       "</style>\n",
       "<table border=\"1\" class=\"dataframe\">\n",
       "  <thead>\n",
       "    <tr style=\"text-align: right;\">\n",
       "      <th></th>\n",
       "      <th>Breed</th>\n",
       "      <th>Color</th>\n",
       "      <th>DogName</th>\n",
       "      <th>OwnerZip</th>\n",
       "    </tr>\n",
       "  </thead>\n",
       "  <tbody>\n",
       "    <tr>\n",
       "      <th>2662</th>\n",
       "      <td>WEIMARANER</td>\n",
       "      <td>GREY</td>\n",
       "      <td>BELLA</td>\n",
       "      <td>15102</td>\n",
       "    </tr>\n",
       "    <tr>\n",
       "      <th>2663</th>\n",
       "      <td>LABRADOR RETRIEVER</td>\n",
       "      <td>BROWN</td>\n",
       "      <td>NINO</td>\n",
       "      <td>15102</td>\n",
       "    </tr>\n",
       "    <tr>\n",
       "      <th>2664</th>\n",
       "      <td>COCKER SPANIEL MIX</td>\n",
       "      <td>WHITE/BLACK</td>\n",
       "      <td>JACK</td>\n",
       "      <td>15102</td>\n",
       "    </tr>\n",
       "    <tr>\n",
       "      <th>2665</th>\n",
       "      <td>GOLDENDOODLE</td>\n",
       "      <td>BROWN</td>\n",
       "      <td>WINSLOW</td>\n",
       "      <td>15044</td>\n",
       "    </tr>\n",
       "    <tr>\n",
       "      <th>2666</th>\n",
       "      <td>YORKSHIRE TERRIER</td>\n",
       "      <td>BLACK/BROWN</td>\n",
       "      <td>ROCKY KALAKOS</td>\n",
       "      <td>15220</td>\n",
       "    </tr>\n",
       "    <tr>\n",
       "      <th>2667</th>\n",
       "      <td>LAB MIX</td>\n",
       "      <td>WHITE/BLACK/BROWN</td>\n",
       "      <td>ELLIE</td>\n",
       "      <td>15220</td>\n",
       "    </tr>\n",
       "    <tr>\n",
       "      <th>2668</th>\n",
       "      <td>GOLDENDOODLE</td>\n",
       "      <td>WHITE</td>\n",
       "      <td>CLARENCE</td>\n",
       "      <td>15143</td>\n",
       "    </tr>\n",
       "    <tr>\n",
       "      <th>2669</th>\n",
       "      <td>SHETLAND SHEEPDOG</td>\n",
       "      <td>BLACK</td>\n",
       "      <td>GRIFFIN</td>\n",
       "      <td>15136</td>\n",
       "    </tr>\n",
       "  </tbody>\n",
       "</table>\n",
       "</div>"
      ],
      "text/plain": [
       "                   Breed              Color        DogName  OwnerZip\n",
       "2662          WEIMARANER               GREY          BELLA     15102\n",
       "2663  LABRADOR RETRIEVER              BROWN           NINO     15102\n",
       "2664  COCKER SPANIEL MIX        WHITE/BLACK           JACK     15102\n",
       "2665        GOLDENDOODLE              BROWN        WINSLOW     15044\n",
       "2666   YORKSHIRE TERRIER        BLACK/BROWN  ROCKY KALAKOS     15220\n",
       "2667             LAB MIX  WHITE/BLACK/BROWN          ELLIE     15220\n",
       "2668        GOLDENDOODLE              WHITE       CLARENCE     15143\n",
       "2669   SHETLAND SHEEPDOG              BLACK        GRIFFIN     15136"
      ]
     },
     "execution_count": 17,
     "metadata": {},
     "output_type": "execute_result"
    }
   ],
   "source": [
    "my_df2.tail(8)"
   ]
  },
  {
   "cell_type": "code",
   "execution_count": 18,
   "id": "86a003fc-01cf-45ec-99eb-29e3acc13f65",
   "metadata": {},
   "outputs": [
    {
     "name": "stdout",
     "output_type": "stream",
     "text": [
      "<class 'pandas.core.frame.DataFrame'>\n",
      "RangeIndex: 2670 entries, 0 to 2669\n",
      "Data columns (total 4 columns):\n",
      " #   Column    Non-Null Count  Dtype \n",
      "---  ------    --------------  ----- \n",
      " 0   Breed     2670 non-null   object\n",
      " 1   Color     2665 non-null   object\n",
      " 2   DogName   2669 non-null   object\n",
      " 3   OwnerZip  2670 non-null   int64 \n",
      "dtypes: int64(1), object(3)\n",
      "memory usage: 83.6+ KB\n"
     ]
    }
   ],
   "source": [
    "my_df2.info()"
   ]
  },
  {
   "cell_type": "code",
   "execution_count": 19,
   "id": "8bd446ab-1be6-4a73-bb18-362efa989879",
   "metadata": {},
   "outputs": [
    {
     "data": {
      "text/plain": [
       "(2670, 4)"
      ]
     },
     "execution_count": 19,
     "metadata": {},
     "output_type": "execute_result"
    }
   ],
   "source": [
    "my_df2.shape"
   ]
  },
  {
   "cell_type": "code",
   "execution_count": 20,
   "id": "ec1fa996-773e-4817-ad74-963fc2435162",
   "metadata": {},
   "outputs": [
    {
     "data": {
      "text/plain": [
       "2"
      ]
     },
     "execution_count": 20,
     "metadata": {},
     "output_type": "execute_result"
    }
   ],
   "source": [
    "my_df2.ndim"
   ]
  },
  {
   "cell_type": "code",
   "execution_count": 21,
   "id": "141cd248-e4c8-4860-a6b6-30ea1710367c",
   "metadata": {},
   "outputs": [
    {
     "data": {
      "text/plain": [
       "Breed       object\n",
       "Color       object\n",
       "DogName     object\n",
       "OwnerZip     int64\n",
       "dtype: object"
      ]
     },
     "execution_count": 21,
     "metadata": {},
     "output_type": "execute_result"
    }
   ],
   "source": [
    "my_df2.dtypes"
   ]
  },
  {
   "cell_type": "code",
   "execution_count": 22,
   "id": "87aa7433-df8e-40be-ba84-ed68a2b1bb0d",
   "metadata": {},
   "outputs": [
    {
     "data": {
      "text/html": [
       "<div>\n",
       "<style scoped>\n",
       "    .dataframe tbody tr th:only-of-type {\n",
       "        vertical-align: middle;\n",
       "    }\n",
       "\n",
       "    .dataframe tbody tr th {\n",
       "        vertical-align: top;\n",
       "    }\n",
       "\n",
       "    .dataframe thead th {\n",
       "        text-align: right;\n",
       "    }\n",
       "</style>\n",
       "<table border=\"1\" class=\"dataframe\">\n",
       "  <thead>\n",
       "    <tr style=\"text-align: right;\">\n",
       "      <th></th>\n",
       "      <th>OwnerZip</th>\n",
       "    </tr>\n",
       "  </thead>\n",
       "  <tbody>\n",
       "    <tr>\n",
       "      <th>count</th>\n",
       "      <td>2670.000000</td>\n",
       "    </tr>\n",
       "    <tr>\n",
       "      <th>mean</th>\n",
       "      <td>15268.109738</td>\n",
       "    </tr>\n",
       "    <tr>\n",
       "      <th>std</th>\n",
       "      <td>2747.560641</td>\n",
       "    </tr>\n",
       "    <tr>\n",
       "      <th>min</th>\n",
       "      <td>15003.000000</td>\n",
       "    </tr>\n",
       "    <tr>\n",
       "      <th>25%</th>\n",
       "      <td>15102.000000</td>\n",
       "    </tr>\n",
       "    <tr>\n",
       "      <th>50%</th>\n",
       "      <td>15136.000000</td>\n",
       "    </tr>\n",
       "    <tr>\n",
       "      <th>75%</th>\n",
       "      <td>15227.000000</td>\n",
       "    </tr>\n",
       "    <tr>\n",
       "      <th>max</th>\n",
       "      <td>97206.000000</td>\n",
       "    </tr>\n",
       "  </tbody>\n",
       "</table>\n",
       "</div>"
      ],
      "text/plain": [
       "           OwnerZip\n",
       "count   2670.000000\n",
       "mean   15268.109738\n",
       "std     2747.560641\n",
       "min    15003.000000\n",
       "25%    15102.000000\n",
       "50%    15136.000000\n",
       "75%    15227.000000\n",
       "max    97206.000000"
      ]
     },
     "execution_count": 22,
     "metadata": {},
     "output_type": "execute_result"
    }
   ],
   "source": [
    "my_df2.describe()"
   ]
  },
  {
   "cell_type": "code",
   "execution_count": 23,
   "id": "76a92461-8416-495e-ac0b-efd2458c7a49",
   "metadata": {},
   "outputs": [
    {
     "data": {
      "text/plain": [
       "count      2665\n",
       "unique       72\n",
       "top       BLACK\n",
       "freq        371\n",
       "Name: Color, dtype: object"
      ]
     },
     "execution_count": 23,
     "metadata": {},
     "output_type": "execute_result"
    }
   ],
   "source": [
    "my_df2['Color'].describe()"
   ]
  },
  {
   "cell_type": "code",
   "execution_count": 24,
   "id": "7bbbee0c-ac14-4508-8a03-a1ecf1cf6b32",
   "metadata": {},
   "outputs": [
    {
     "data": {
      "text/plain": [
       "count     2669\n",
       "unique    1428\n",
       "top       LUCY\n",
       "freq        35\n",
       "Name: DogName, dtype: object"
      ]
     },
     "execution_count": 24,
     "metadata": {},
     "output_type": "execute_result"
    }
   ],
   "source": [
    "my_df2['DogName'].describe()"
   ]
  },
  {
   "cell_type": "code",
   "execution_count": 25,
   "id": "e33be21c-eeec-48ab-80f5-b74e16ec0cfd",
   "metadata": {},
   "outputs": [
    {
     "data": {
      "text/plain": [
       "count     2670.000000\n",
       "mean     15268.109738\n",
       "std       2747.560641\n",
       "min      15003.000000\n",
       "25%      15102.000000\n",
       "50%      15136.000000\n",
       "75%      15227.000000\n",
       "max      97206.000000\n",
       "Name: OwnerZip, dtype: float64"
      ]
     },
     "execution_count": 25,
     "metadata": {},
     "output_type": "execute_result"
    }
   ],
   "source": [
    "my_df2['OwnerZip'].describe()"
   ]
  },
  {
   "cell_type": "code",
   "execution_count": 26,
   "id": "14e8e445-6d39-4432-8d43-ffd94f206811",
   "metadata": {},
   "outputs": [
    {
     "data": {
      "text/plain": [
       "0                   BROWN\n",
       "1             BLACK/BROWN\n",
       "2                 BRINDLE\n",
       "3             BLACK/BROWN\n",
       "4             WHITE/BROWN\n",
       "              ...        \n",
       "2665                BROWN\n",
       "2666          BLACK/BROWN\n",
       "2667    WHITE/BLACK/BROWN\n",
       "2668                WHITE\n",
       "2669                BLACK\n",
       "Name: Color, Length: 2670, dtype: object"
      ]
     },
     "execution_count": 26,
     "metadata": {},
     "output_type": "execute_result"
    }
   ],
   "source": [
    "my_df2['Color']"
   ]
  },
  {
   "cell_type": "code",
   "execution_count": 27,
   "id": "7b3e55a3-3e07-4311-87e1-ed8763f56a8e",
   "metadata": {},
   "outputs": [
    {
     "data": {
      "text/plain": [
       "0                   BROWN\n",
       "1             BLACK/BROWN\n",
       "2                 BRINDLE\n",
       "3             BLACK/BROWN\n",
       "4             WHITE/BROWN\n",
       "              ...        \n",
       "2665                BROWN\n",
       "2666          BLACK/BROWN\n",
       "2667    WHITE/BLACK/BROWN\n",
       "2668                WHITE\n",
       "2669                BLACK\n",
       "Name: Color, Length: 2670, dtype: object"
      ]
     },
     "execution_count": 27,
     "metadata": {},
     "output_type": "execute_result"
    }
   ],
   "source": [
    "my_df2.Color "
   ]
  },
  {
   "cell_type": "code",
   "execution_count": 28,
   "id": "be3841eb-ac9e-446f-90e0-52882704fb35",
   "metadata": {},
   "outputs": [
    {
     "data": {
      "text/plain": [
       "0             CHARLEY\n",
       "1              TACODA\n",
       "2                EICH\n",
       "3               ARROW\n",
       "4              OAKLEY\n",
       "            ...      \n",
       "2665          WINSLOW\n",
       "2666    ROCKY KALAKOS\n",
       "2667            ELLIE\n",
       "2668         CLARENCE\n",
       "2669          GRIFFIN\n",
       "Name: DogName, Length: 2670, dtype: object"
      ]
     },
     "execution_count": 28,
     "metadata": {},
     "output_type": "execute_result"
    }
   ],
   "source": [
    "my_df2['DogName']"
   ]
  },
  {
   "cell_type": "code",
   "execution_count": 29,
   "id": "538823fb-bc33-48b7-b40c-c6c6effde895",
   "metadata": {},
   "outputs": [
    {
     "data": {
      "text/plain": [
       "0             CHARLEY\n",
       "1              TACODA\n",
       "2                EICH\n",
       "3               ARROW\n",
       "4              OAKLEY\n",
       "            ...      \n",
       "2665          WINSLOW\n",
       "2666    ROCKY KALAKOS\n",
       "2667            ELLIE\n",
       "2668         CLARENCE\n",
       "2669          GRIFFIN\n",
       "Name: DogName, Length: 2670, dtype: object"
      ]
     },
     "execution_count": 29,
     "metadata": {},
     "output_type": "execute_result"
    }
   ],
   "source": [
    "my_df2.DogName "
   ]
  },
  {
   "cell_type": "code",
   "execution_count": 30,
   "id": "99deb278-8eab-4b39-a372-2c0a41a033ac",
   "metadata": {},
   "outputs": [
    {
     "data": {
      "text/plain": [
       "0       15236\n",
       "1       15238\n",
       "2       15238\n",
       "3       15104\n",
       "4       15139\n",
       "        ...  \n",
       "2665    15044\n",
       "2666    15220\n",
       "2667    15220\n",
       "2668    15143\n",
       "2669    15136\n",
       "Name: OwnerZip, Length: 2670, dtype: int64"
      ]
     },
     "execution_count": 30,
     "metadata": {},
     "output_type": "execute_result"
    }
   ],
   "source": [
    "my_df2['OwnerZip']"
   ]
  },
  {
   "cell_type": "code",
   "execution_count": 31,
   "id": "12d2bace-67d2-4d41-884a-d2532b5dc7f7",
   "metadata": {},
   "outputs": [
    {
     "data": {
      "text/plain": [
       "0       15236\n",
       "1       15238\n",
       "2       15238\n",
       "3       15104\n",
       "4       15139\n",
       "        ...  \n",
       "2665    15044\n",
       "2666    15220\n",
       "2667    15220\n",
       "2668    15143\n",
       "2669    15136\n",
       "Name: OwnerZip, Length: 2670, dtype: int64"
      ]
     },
     "execution_count": 31,
     "metadata": {},
     "output_type": "execute_result"
    }
   ],
   "source": [
    "my_df2.OwnerZip "
   ]
  },
  {
   "cell_type": "code",
   "execution_count": 32,
   "id": "073a239a-c500-4f47-9422-1a58639c11d5",
   "metadata": {},
   "outputs": [
    {
     "data": {
      "text/plain": [
       "0                  COCKAPOO\n",
       "1              GER SHEPHERD\n",
       "2             BELG MALINOIS\n",
       "3                     MIXED\n",
       "4       AM PIT BULL TERRIER\n",
       "               ...         \n",
       "2665           GOLDENDOODLE\n",
       "2666      YORKSHIRE TERRIER\n",
       "2667                LAB MIX\n",
       "2668           GOLDENDOODLE\n",
       "2669      SHETLAND SHEEPDOG\n",
       "Name: Breed, Length: 2670, dtype: object"
      ]
     },
     "execution_count": 32,
     "metadata": {},
     "output_type": "execute_result"
    }
   ],
   "source": [
    "my_df2.iloc[:,0]"
   ]
  },
  {
   "cell_type": "code",
   "execution_count": 33,
   "id": "0c1ca8ff-19e0-4fb8-a8fd-f88950b6d05a",
   "metadata": {},
   "outputs": [
    {
     "data": {
      "text/plain": [
       "0                   BROWN\n",
       "1             BLACK/BROWN\n",
       "2                 BRINDLE\n",
       "3             BLACK/BROWN\n",
       "4             WHITE/BROWN\n",
       "              ...        \n",
       "2665                BROWN\n",
       "2666          BLACK/BROWN\n",
       "2667    WHITE/BLACK/BROWN\n",
       "2668                WHITE\n",
       "2669                BLACK\n",
       "Name: Color, Length: 2670, dtype: object"
      ]
     },
     "execution_count": 33,
     "metadata": {},
     "output_type": "execute_result"
    }
   ],
   "source": [
    "my_df2.iloc[:,1]"
   ]
  },
  {
   "cell_type": "code",
   "execution_count": null,
   "id": "36bc92dd-52d9-4b19-9be0-50e9ed364db4",
   "metadata": {},
   "outputs": [],
   "source": []
  }
 ],
 "metadata": {
  "kernelspec": {
   "display_name": "Python 3 (ipykernel)",
   "language": "python",
   "name": "python3"
  },
  "language_info": {
   "codemirror_mode": {
    "name": "ipython",
    "version": 3
   },
   "file_extension": ".py",
   "mimetype": "text/x-python",
   "name": "python",
   "nbconvert_exporter": "python",
   "pygments_lexer": "ipython3",
   "version": "3.12.7"
  }
 },
 "nbformat": 4,
 "nbformat_minor": 5
}
